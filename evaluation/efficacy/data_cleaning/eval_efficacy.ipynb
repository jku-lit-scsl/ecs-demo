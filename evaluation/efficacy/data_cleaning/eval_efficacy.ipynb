{
 "cells": [
  {
   "cell_type": "markdown",
   "source": [
    "# Efficacy"
   ],
   "metadata": {
    "collapsed": false
   },
   "id": "654806d25f6998fc"
  },
  {
   "cell_type": "markdown",
   "source": [],
   "metadata": {
    "collapsed": false
   },
   "id": "727f61c0de4700bf"
  },
  {
   "cell_type": "code",
   "execution_count": null,
   "outputs": [],
   "source": [
    "import os\n",
    "import re\n",
    "from datetime import datetime, timedelta\n",
    "import seaborn as sns  # Seaborn for enhanced boxplot aesthetics\n",
    "\n",
    "import matplotlib.pyplot as plt\n",
    "import matplotlib.ticker as ticker\n",
    "import pandas as pd\n",
    "from matplotlib.ticker import FuncFormatter, AutoLocator, AutoMinorLocator\n",
    "\n",
    "ip_pattern = r'\\d{1,3}\\.\\d{1,3}\\.\\d{1,3}\\.\\d{1,3}'\n",
    "log_entry_pattern = r'(\\d{4}-\\d{2}-\\d{2} \\d{2}:\\d{2}:\\d{2}\\.\\d{3}).*Increased defcon mode to: defcon_4_monitoring'"
   ],
   "metadata": {
    "collapsed": false
   },
   "id": "d487e77d6886f990"
  },
  {
   "cell_type": "code",
   "execution_count": null,
   "outputs": [],
   "source": [
    "def get_log_files(directory):\n",
    "    \"\"\"\n",
    "    Retrieves all log files in the specified directory.\n",
    "\n",
    "    :param directory: Path to the directory to search for log files.\n",
    "    :return: List of paths to log files found in the directory.\n",
    "    \"\"\"\n",
    "    log_files = [os.path.join(directory, file) for file in os.listdir(directory) if file.endswith('.log')]\n",
    "    return log_files\n",
    "\n",
    "# Function to parse the log file and extract only WARNING log entries\n",
    "def extract_warning_logs(input_path, output_path):\n",
    "    with open(input_path, 'r') as input_file, open(output_path, 'w') as output_file:\n",
    "        for line in input_file:\n",
    "            if \"WARNING\" in line:\n",
    "                output_file.write(line)\n",
    "\n"
   ],
   "metadata": {
    "collapsed": false
   },
   "id": "60c0dc591bc0cfe8"
  }
 ],
 "metadata": {
  "kernelspec": {
   "display_name": "Python 3",
   "language": "python",
   "name": "python3"
  },
  "language_info": {
   "codemirror_mode": {
    "name": "ipython",
    "version": 2
   },
   "file_extension": ".py",
   "mimetype": "text/x-python",
   "name": "python",
   "nbconvert_exporter": "python",
   "pygments_lexer": "ipython2",
   "version": "2.7.6"
  }
 },
 "nbformat": 4,
 "nbformat_minor": 5
}

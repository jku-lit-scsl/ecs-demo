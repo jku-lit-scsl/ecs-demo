{
 "cells": [
  {
   "cell_type": "code",
   "execution_count": 4,
   "id": "initial_id",
   "metadata": {
    "collapsed": true,
    "ExecuteTime": {
     "end_time": "2024-02-12T16:34:27.468766400Z",
     "start_time": "2024-02-12T16:34:27.449511300Z"
    }
   },
   "outputs": [
    {
     "name": "stdout",
     "output_type": "stream",
     "text": [
      "['ed_02\\\\r1\\\\20240208_055445_192.168.68.50_viability_eval.log', 'ed_02\\\\r1\\\\20240208_055449_192.168.68.70_viability_eval.log', 'ed_02\\\\r1\\\\20240208_055453_192.168.68.60_viability_eval.log', 'ed_02\\\\r1\\\\20240208_055516_192.168.68.61_viability_eval.log', 'ed_02\\\\r1\\\\20240208_055622_192.168.68.71_viability_eval.log', 'ed_02\\\\r1\\\\20240208_055720_192.168.68.73_viability_eval_trigger.log']\n"
     ]
    }
   ],
   "source": [
    "import os\n",
    "\n",
    "\n",
    "def get_log_files(directory):\n",
    "    \"\"\"\n",
    "    Retrieves all log files in the specified directory.\n",
    "\n",
    "    :param directory: Path to the directory to search for log files.\n",
    "    :return: List of paths to log files found in the directory.\n",
    "    \"\"\"\n",
    "    log_files = [os.path.join(directory, file) for file in os.listdir(directory) if file.endswith('.log')]\n",
    "    return log_files\n",
    "\n",
    "\n",
    "# Example usage\n",
    "directory_path = os.path.join('ed_02', 'r1')  # Replace with the actual directory path\n",
    "log_files = get_log_files(directory_path)\n",
    "print(log_files)\n",
    "\n",
    "\n",
    "# Function to parse the log file and extract only WARNING log entries\n",
    "def extract_warning_logs(input_path, output_path):\n",
    "    with open(input_path, 'r') as input_file, open(output_path, 'w') as output_file:\n",
    "        for line in input_file:\n",
    "            if \"WARNING\" in line:\n",
    "                output_file.write(line)\n",
    "\n",
    "for log_file in log_files:\n",
    "    # Call the function\n",
    "    extract_warning_logs(log_file, log_file.replace('.log', 'defcon_warn.log'))\n"
   ]
  }
 ],
 "metadata": {
  "kernelspec": {
   "display_name": "Python 3",
   "language": "python",
   "name": "python3"
  },
  "language_info": {
   "codemirror_mode": {
    "name": "ipython",
    "version": 2
   },
   "file_extension": ".py",
   "mimetype": "text/x-python",
   "name": "python",
   "nbconvert_exporter": "python",
   "pygments_lexer": "ipython2",
   "version": "2.7.6"
  }
 },
 "nbformat": 4,
 "nbformat_minor": 5
}
